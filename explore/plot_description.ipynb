{
 "cells": [
  {
   "cell_type": "code",
<<<<<<< HEAD
   "execution_count": 1,
=======
   "execution_count": 10,
>>>>>>> 7d2c1c9a33e3f9987ebb661d6dd8c0d401a1b8eb
   "metadata": {},
   "outputs": [
    {
     "data": {
      "text/plain": [
<<<<<<< HEAD
       "'/home/niek/Elvina/Thesis/repository/Fact_Checking_model/explore'"
      ]
     },
     "execution_count": 1,
=======
       "'c:\\\\Users\\\\el_4\\\\OneDrive\\\\Документы\\\\Tilburg University\\\\Master DSS\\\\Thesis\\\\code\\\\Fact_Checking_model\\\\explore'"
      ]
     },
     "execution_count": 10,
>>>>>>> 7d2c1c9a33e3f9987ebb661d6dd8c0d401a1b8eb
     "metadata": {},
     "output_type": "execute_result"
    }
   ],
   "source": [
    "import pandas as pd\n",
    "import re\n",
    "import os\n",
    "os.getcwd()"
   ]
  },
  {
   "cell_type": "code",
<<<<<<< HEAD
   "execution_count": 5,
=======
   "execution_count": 18,
>>>>>>> 7d2c1c9a33e3f9987ebb661d6dd8c0d401a1b8eb
   "metadata": {},
   "outputs": [
    {
     "name": "stdout",
     "output_type": "stream",
     "text": [
      "   Wikipedia ID                                               Plot\n",
      "0      23890098  Shlykov, a hard-working taxi driver and Lyosha...\n",
      "1      31186339  The nation of Panem consists of a wealthy Capi...\n",
      "2      20663735  Poovalli Induchoodan  is sentenced for six yea...\n",
      "3       2231378  The Lemon Drop Kid , a New York City swindler,...\n",
      "4        595909  Seventh-day Adventist Church pastor Michael Ch...\n",
      "5       5272176  The president is on his way to give a speech. ...\n",
      "6       1952976  {{plot}} The film opens in 1974, as a young gi...\n",
      "7      24225279  The story begins with Hannah, a young Jewish t...\n",
      "8       2462689  Infuriated at being told to write one final co...\n",
      "9      20532852  A line of people  drool at the window of the s...\n"
     ]
    }
   ],
   "source": [
    "data = pd.read_csv('../data/raw/MovieSummaries/plot_summaries.txt', delimiter='\\t', header=None)\n",
    "column_names = ['Wikipedia ID', 'Plot']\n",
    "data.columns = column_names\n",
    "print(data.head(10))"
   ]
  },
  {
<<<<<<< HEAD
   "attachments": {},
   "cell_type": "markdown",
   "metadata": {},
   "source": [
    "### Cleaning text in the 'Plot' column"
   ]
  },
  {
   "cell_type": "code",
   "execution_count": 51,
   "metadata": {},
   "outputs": [
    {
     "name": "stderr",
     "output_type": "stream",
     "text": [
      "/tmp/ipykernel_8142/896587820.py:20: FutureWarning: The default value of regex will change from True to False in a future version.\n",
      "  data['Plot'] = data['Plot'].str.replace(pattern_http, '', flags=re.IGNORECASE)\n",
      "/tmp/ipykernel_8142/896587820.py:27: FutureWarning: The default value of regex will change from True to False in a future version.\n",
      "  data['Plot'] = data['Plot'].str.replace('{{plot\\|datePBS-AE>', '')\n",
      "/tmp/ipykernel_8142/896587820.py:33: FutureWarning: The default value of regex will change from True to False in a future version.\n",
      "  data[\"Plot\"] = data[\"Plot\"].str.replace('{{Expand section|date', \"\")\n",
      "/tmp/ipykernel_8142/896587820.py:36: FutureWarning: The default value of regex will change from True to False in a future version.\n",
      "  data['Plot'] = data['Plot'].str.replace('{{cite news|url', '')\n",
      "/tmp/ipykernel_8142/896587820.py:39: FutureWarning: The default value of regex will change from True to False in a future version.\n",
      "  data['Plot'] = data['Plot'].str.replace('{{', '')\n",
      "/tmp/ipykernel_8142/896587820.py:40: FutureWarning: The default value of regex will change from True to False in a future version.\n",
      "  data['Plot'] = data['Plot'].str.replace('{| class\"\"col\"\" width\"\"col\"\" width\"\"col\"\" widthAct two - TrainingAct three - The mission', '')\n"
=======
   "cell_type": "code",
   "execution_count": 19,
   "metadata": {},
   "outputs": [
    {
     "name": "stdout",
     "output_type": "stream",
     "text": [
      "    Wikipedia ID                                               Plot\n",
      "0       23890098  Shlykov, a hard-working taxi driver and Lyosha...\n",
      "1       31186339  The nation of Panem consists of a wealthy Capi...\n",
      "2       20663735  Poovalli Induchoodan  is sentenced for six yea...\n",
      "3        2231378  The Lemon Drop Kid , a New York City swindler,...\n",
      "4         595909  Seventh-day Adventist Church pastor Michael Ch...\n",
      "5        5272176  The president is on his way to give a speech. ...\n",
      "6        1952976   The film opens in 1974, as a young girl, Dahl...\n",
      "7       24225279  The story begins with Hannah, a young Jewish t...\n",
      "8        2462689  Infuriated at being told to write one final co...\n",
      "9       20532852  A line of people  drool at the window of the s...\n",
      "10      15401493  Lola  attempts to gain her father's trust fund...\n",
      "11      18188932  Milan and Goran are two criminals who smuggle ...\n"
>>>>>>> 7d2c1c9a33e3f9987ebb661d6dd8c0d401a1b8eb
     ]
    }
   ],
   "source": [
<<<<<<< HEAD
    "#1 define a regular expression pattern to match words inside {{ }}\n",
    "pattern = re.compile(r'\\{\\{.*?\\}\\}', re.IGNORECASE)\n",
    "# clean the 'Plot' column using the regular expression pattern\n",
    "data['Plot'] = data['Plot'].apply(lambda x: re.sub(pattern, '', x))\n",
    "\n",
    "\n",
    "#2 Define a regular expression pattern to match everything between <ref and }} or ]\n",
    "pattern_ref = r'<ref.*?(?:\\}\\}|\\]|\\|)'\n",
    "# Apply the regular expression pattern to the text in the 'Plot' column\n",
    "data['Plot'] = data['Plot'].str.replace(pattern_ref, '', regex=True)\n",
    "\n",
    "#3 Define a regular expression pattern to match everything between <ref and name or nameN:\n",
    "pattern_name = r'<ref\\s+.*?(?:(?:nameN|name)\\s*=\\s*[\"\\']?\\w+[\"\\']?)?.*?\\/?>'   #didn't work - dont include in the code file\n",
    "# Apply the regular expression pattern to the text in the 'Plot' column\n",
    "data['Plot'] = data['Plot'].str.replace(pattern_name, '', regex=True)          #didn't work - dont include in the code file\n",
    "\n",
    "\n",
    "#4 Remove the pattern for links like http: * html\n",
    "pattern_http = r'http\\S*?html'\n",
    "data['Plot'] = data['Plot'].str.replace(pattern_http, '', flags=re.IGNORECASE)\n",
    "\n",
    "\n",
    "#5 replace '([[' and  '-->' symbols with an empty string in the 'Plot' column\n",
    "data['Plot'] = data['Plot'].str.replace(r'\\(\\[\\[|-->|\\[\\[', '', regex=True)\n",
    "\n",
    "#6 remove the \"{{plot|datePBS-AE>\" symbol from the \"Plot\" column\n",
    "data['Plot'] = data['Plot'].str.replace('{{plot\\|datePBS-AE>', '')\n",
    "\n",
    "#7 remove words between { } in the 'Plot' column\n",
    "data['Plot'] = data['Plot'].apply(lambda x: re.sub(r'\\{.*?\\}', '', x))\n",
    "\n",
    "#8 Replace \"{{Expand section|date\" with an empty string in all rows of column_name\n",
    "data[\"Plot\"] = data[\"Plot\"].str.replace('{{Expand section|date', \"\")\n",
    "\n",
    "#9 remove the string from all rows of 'Plot' column\n",
    "data['Plot'] = data['Plot'].str.replace('{{cite news|url', '')\n",
    "\n",
    "#10 remove {{ from all rows in the Plot column\n",
    "data['Plot'] = data['Plot'].str.replace('{{', '')\n",
    "data['Plot'] = data['Plot'].str.replace('{| class\"\"col\"\" width\"\"col\"\" width\"\"col\"\" widthAct two - TrainingAct three - The mission', '')\n",
    "\n"
=======
    "# define a regular expression pattern to match words inside {{ }}\n",
    "pattern = re.compile(r'\\{\\{.*?\\}\\}', re.IGNORECASE)\n",
    "\n",
    "# clean the 'Plot' column using the regular expression pattern\n",
    "data['Plot'] = data['Plot'].apply(lambda x: re.sub(pattern, '', x))\n",
    "\n",
    "print(data.head(12))"
>>>>>>> 7d2c1c9a33e3f9987ebb661d6dd8c0d401a1b8eb
   ]
  },
  {
   "cell_type": "code",
<<<<<<< HEAD
   "execution_count": 53,
=======
   "execution_count": 14,
   "metadata": {},
   "outputs": [],
   "source": [
    "data.to_csv('test_plot.csv', index = False)"
   ]
  },
  {
   "cell_type": "code",
   "execution_count": 20,
>>>>>>> 7d2c1c9a33e3f9987ebb661d6dd8c0d401a1b8eb
   "metadata": {},
   "outputs": [
    {
     "name": "stdout",
     "output_type": "stream",
     "text": [
      "       Wikipedia ID Plot\n",
      "1162        2188010     \n",
      "6356       33551961     \n",
      "7261       20846244     \n",
<<<<<<< HEAD
      "8876       14830123     \n",
      "9416       28164962     \n",
      "12143      22892795     \n",
      "14209      27818228     \n",
      "21448      28154563     \n",
      "21853       8664046     \n",
=======
      "12143      22892795     \n",
>>>>>>> 7d2c1c9a33e3f9987ebb661d6dd8c0d401a1b8eb
      "37668      19006017     \n",
      "38681        805941     \n"
     ]
    }
   ],
   "source": [
    "# find the rows without plot descriptions\n",
    "no_plot = data[data['Plot'].isna() | (data['Plot'] == '')]\n",
    "\n",
    "# print the rows without plot descriptions\n",
    "print(no_plot[['Wikipedia ID', 'Plot']])\n",
    "\n",
    "# remove the rows without plot descriptions\n",
<<<<<<< HEAD
    "data = data.drop(no_plot.index)"
=======
    "data = data.drop(no_plot.index)\n",
    "\n",
    "print\n"
   ]
  },
  {
   "cell_type": "code",
   "execution_count": 22,
   "metadata": {},
   "outputs": [
    {
     "name": "stdout",
     "output_type": "stream",
     "text": [
      "{'Wikipedia ID': 17864265, 'Plot': \"A spider is the friend of a young girl named Leslie  who is taking piano lessons from a very strict Instructor . When the Instructor is frightened by Itsy, she calls an Exterminator, that uses more and more extreme measures to try to kill Itsy, most of which end up causing pain and destruction to the Instructor's home, cat, and the Exterminator himself, which turns out to be a heavily-armed android (voiced by [[Phil Hayes . The Exterminator's methods begin to get even more extreme, escalating from poison and vacuums to guns and explosives, until the Instructor's house is eventually blown up. Itsy is finally reunited with the girl , and they go home.\"}\n"
     ]
    }
   ],
   "source": [
    "# testing if the empty rows disappeared\n",
    "row = data.loc[1163]\n",
    "\n",
    "# convert the row to a dictionary and print it\n",
    "print(row.to_dict())"
>>>>>>> 7d2c1c9a33e3f9987ebb661d6dd8c0d401a1b8eb
   ]
  },
  {
   "cell_type": "code",
   "execution_count": null,
   "metadata": {},
   "outputs": [],
<<<<<<< HEAD
   "source": [
    "# read the 'Movies_metadata.csv' file into a dataframe\n",
    "movies_df = pd.read_csv('../data/processed/Movies_metadata.csv')\n",
    "\n",
    "# merge the two dataframes on the 'Wikipedia ID' column\n",
    "plot_df = pd.merge(data, movies_df[['Wikipedia ID', 'Movie name']], on='Wikipedia ID', how='left')\n",
    "\n",
    "# remove the duplicates\n",
    "plot_df = plot_df.drop_duplicates(subset='Wikipedia ID', keep='first')\n",
    "\n",
    "# reorder the columns and reset the indices\n",
    "plot_df = plot_df[['Wikipedia ID', 'Movie name', 'Plot']]\n",
    "plot_df = plot_df.dropna()\n",
    "plot_df = plot_df.reset_index(drop=True)"
   ]
  },
  {
   "cell_type": "code",
   "execution_count": 54,
   "metadata": {},
   "outputs": [],
   "source": [
    "data.to_csv('test_plot.csv', index = False)"
   ]
  },
  {
   "cell_type": "code",
   "execution_count": null,
   "metadata": {},
   "outputs": [],
   "source": [
    "# print count of NaN vaues\n",
    "print(plot_df.isna().sum().sum())"
   ]
=======
   "source": []
>>>>>>> 7d2c1c9a33e3f9987ebb661d6dd8c0d401a1b8eb
  }
 ],
 "metadata": {
  "kernelspec": {
   "display_name": "Python 3",
   "language": "python",
   "name": "python3"
  },
  "language_info": {
   "codemirror_mode": {
    "name": "ipython",
    "version": 3
   },
   "file_extension": ".py",
   "mimetype": "text/x-python",
   "name": "python",
   "nbconvert_exporter": "python",
   "pygments_lexer": "ipython3",
<<<<<<< HEAD
   "version": "3.10.6"
=======
   "version": "3.9.6"
>>>>>>> 7d2c1c9a33e3f9987ebb661d6dd8c0d401a1b8eb
  },
  "orig_nbformat": 4
 },
 "nbformat": 4,
 "nbformat_minor": 2
}
