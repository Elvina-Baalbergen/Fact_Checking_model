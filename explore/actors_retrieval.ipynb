{
 "cells": [
  {
   "cell_type": "code",
   "execution_count": 1,
   "metadata": {},
   "outputs": [
    {
     "data": {
      "text/plain": [
       "'/home/niek/Elvina/Thesis/repository/Fact_Checking_model/explore'"
      ]
     },
     "execution_count": 1,
     "metadata": {},
     "output_type": "execute_result"
    }
   ],
   "source": [
    "import pandas as pd\n",
    "import os\n",
    "os.getcwd()"
   ]
  },
  {
   "cell_type": "code",
   "execution_count": 2,
   "metadata": {},
   "outputs": [
    {
     "name": "stdout",
     "output_type": "stream",
     "text": [
      "   Wikipedia ID Freebase movie ID Movie release date  \\\n",
      "0        975900         /m/03vyhn         2001-08-24   \n",
      "1        975900         /m/03vyhn         2001-08-24   \n",
      "2        975900         /m/03vyhn         2001-08-24   \n",
      "3        975900         /m/03vyhn         2001-08-24   \n",
      "4        975900         /m/03vyhn         2001-08-24   \n",
      "5        975900         /m/03vyhn         2001-08-24   \n",
      "6        975900         /m/03vyhn         2001-08-24   \n",
      "7        975900         /m/03vyhn         2001-08-24   \n",
      "8        975900         /m/03vyhn         2001-08-24   \n",
      "9        975900         /m/03vyhn         2001-08-24   \n",
      "\n",
      "               Character name   Actor dob Gender  Height   Ethnicity  \\\n",
      "0                    Akooshay  1958-08-26      F   1.620         NaN   \n",
      "1  Lieutenant Melanie Ballard  1974-08-15      F   1.780  /m/044038p   \n",
      "2         Desolation Williams  1969-06-15      M   1.727     /m/0x67   \n",
      "3          Sgt Jericho Butler  1967-09-12      M   1.750         NaN   \n",
      "4             Bashira Kincaid  1977-09-25      F   1.650         NaN   \n",
      "5   Commander Helena Braddock  1949-05-26      F   1.727     /m/0x67   \n",
      "6                    Whitlock  1945-08-02      F   1.753         NaN   \n",
      "7              Big Daddy Mars         NaN      M     NaN         NaN   \n",
      "8            Michael Descanso  1971-03-20      M   1.892         NaN   \n",
      "9                         Uno         NaN      M     NaN         NaN   \n",
      "\n",
      "                Actor   Age Freebase character/actor map ID  \\\n",
      "0      Wanda De Jesus  42.0                      /m/0bgchxw   \n",
      "1  Natasha Henstridge  27.0                       /m/0jys3m   \n",
      "2            Ice Cube  32.0                       /m/0jys3g   \n",
      "3       Jason Statham  33.0                      /m/02vchl6   \n",
      "4         Clea DuVall  23.0                      /m/02vbb3r   \n",
      "5           Pam Grier  52.0                      /m/02vdcfp   \n",
      "6      Joanna Cassidy  56.0                      /m/02vd6kw   \n",
      "7     Richard Cetrone   NaN                      /m/0bgchsy   \n",
      "8          Liam Waite  30.0                      /m/03jqhb0   \n",
      "9         Duane Davis   NaN                      /m/0bgchtj   \n",
      "\n",
      "  Freebase character ID Freebase actor ID  \n",
      "0            /m/0bgcj3x        /m/03wcfv7  \n",
      "1            /m/0bgchn4         /m/0346l4  \n",
      "2            /m/0bgchn_        /m/01vw26l  \n",
      "3            /m/0bgchnq         /m/034hyc  \n",
      "4            /m/0bgchp9         /m/01y9xg  \n",
      "5            /m/0bgchnd         /m/0418ft  \n",
      "6            /m/0bgchmx         /m/06lj1m  \n",
      "7            /m/0bgcht0        /m/0bgcht7  \n",
      "8            /m/0bgchs4         /m/0ks8b0  \n",
      "9            /m/0bgchtm        /m/03nrwdy  \n"
     ]
    }
   ],
   "source": [
    "df = pd.read_csv('../data/raw/MovieSummaries/character.metadata.tsv', delimiter='\\t', header=None)\n",
    "column_names = ['Wikipedia ID','Freebase movie ID','Movie release date', 'Character name', 'Actor dob', 'Gender', 'Height','Ethnicity','Actor','Age', 'Freebase character/actor map ID','Freebase character ID', 'Freebase actor ID']\n",
    "\n",
    "df.columns = column_names\n",
    "#df = df.rename_axis(\"Wikipedia ID\").reset_index()\n",
    "\n",
    "\n"
   ]
  },
  {
   "cell_type": "code",
   "execution_count": null,
   "metadata": {},
   "outputs": [],
   "source": [
    "df.drop(['Movie release date', 'Character name', 'Actor dob', 'Gender', 'Height','Ethnicity','Age', 'Freebase character/actor map ID','Freebase character ID', 'Freebase actor ID'], axis=1, inplace=True)\n"
   ]
  },
  {
   "cell_type": "code",
   "execution_count": 8,
   "metadata": {},
   "outputs": [
    {
     "name": "stdout",
     "output_type": "stream",
     "text": [
      "        Wikipedia ID Freebase movie ID               Actor\n",
      "0             975900         /m/03vyhn      Wanda De Jesus\n",
      "1             975900         /m/03vyhn  Natasha Henstridge\n",
      "2             975900         /m/03vyhn            Ice Cube\n",
      "3             975900         /m/03vyhn       Jason Statham\n",
      "4             975900         /m/03vyhn         Clea DuVall\n",
      "...              ...               ...                 ...\n",
      "450664        913762         /m/03pcrp  Dorothy Elias-Fahn\n",
      "450665        913762         /m/03pcrp       Jonathan Fahn\n",
      "450666      28308153        /m/0cp05t9      David Hemmings\n",
      "450667      28308153        /m/0cp05t9    Roberta Paterson\n",
      "450668      28308153        /m/0cp05t9         John Rogers\n",
      "\n",
      "[450669 rows x 3 columns]\n"
     ]
    }
   ],
   "source": [
    "\n",
    "actors_df = df\n",
    "print(actors_df)"
   ]
  },
  {
   "attachments": {},
   "cell_type": "markdown",
   "metadata": {},
   "source": [
    "## Metadata\n"
   ]
  },
  {
   "cell_type": "code",
   "execution_count": 73,
   "metadata": {},
   "outputs": [],
   "source": [
    "data = pd.read_csv('../data/raw/MovieSummaries/movie.metadata.tsv', delimiter='\\t', header=None)"
   ]
  },
  {
   "cell_type": "code",
   "execution_count": 74,
   "metadata": {},
   "outputs": [
    {
     "name": "stdout",
     "output_type": "stream",
     "text": [
      "   Wikipedia ID Freebase movie ID  \\\n",
      "0        975900         /m/03vyhn   \n",
      "1       3196793         /m/08yl5d   \n",
      "2      28463795        /m/0crgdbh   \n",
      "3       9363483        /m/0285_cd   \n",
      "4        261236         /m/01mrr1   \n",
      "5      13696889        /m/03cfc81   \n",
      "\n",
      "                                          Movie name        Year  \\\n",
      "0                                     Ghosts of Mars  2001-08-24   \n",
      "1  Getting Away with Murder: The JonBenét Ramsey ...  2000-02-16   \n",
      "2                                        Brun bitter        1988   \n",
      "3                                   White Of The Eye        1987   \n",
      "4                                  A Woman in Flames        1983   \n",
      "5                                      The Gangsters  1913-05-29   \n",
      "\n",
      "                                               Genre  \n",
      "0  (Thriller, Science Fiction, Horror, Adventure,...  \n",
      "1   (Mystery, Biographical film, Drama, Crime Drama)  \n",
      "2                             (Crime Fiction, Drama)  \n",
      "3  (Thriller, Erotic thriller, Psychological thri...  \n",
      "4                                            (Drama)  \n",
      "5  (Short Film, Silent film, Indie, Black-and-whi...  \n"
     ]
    }
   ],
   "source": [
    "column_names = ['Wikipedia ID','Freebase movie ID','Movie name', 'Year', 'Movie box office revenue', 'Movie runtime', 'Movie languages', 'Movie countries', 'Genre']\n",
    "data.columns = column_names\n",
    "data.drop(['Movie box office revenue', 'Movie runtime', 'Movie languages', 'Movie countries'], axis=1, inplace=True)\n",
    "\n",
    "data['Genre'] = data['Genre'].apply(lambda x: eval(x).values())\n",
    "print(data.head(6))"
   ]
  },
  {
   "cell_type": "code",
   "execution_count": 77,
   "metadata": {},
   "outputs": [
    {
     "data": {
      "text/plain": [
       "Year\n",
       "1010       1\n",
       "1888       1\n",
       "1889       1\n",
       "1890       2\n",
       "1891       3\n",
       "        ... \n",
       "2013     164\n",
       "2014      17\n",
       "2015       4\n",
       "2016       3\n",
       "nan     6902\n",
       "Length: 131, dtype: int64"
      ]
     },
     "execution_count": 77,
     "metadata": {},
     "output_type": "execute_result"
    }
   ],
   "source": [
    "data['Year'] = data['Year'].astype(str).str[:4]\n",
    "grouped_years = data.groupby('Year').size()\n",
    "grouped_years"
   ]
  },
  {
   "cell_type": "code",
   "execution_count": 80,
   "metadata": {},
   "outputs": [],
   "source": [
    "data.loc[data['Year'] == '1010', 'Year'] = '2010'"
   ]
  },
  {
   "cell_type": "code",
   "execution_count": 81,
   "metadata": {},
   "outputs": [
    {
     "name": "stdout",
     "output_type": "stream",
     "text": [
      "Year\n",
      "1888       1\n",
      "1889       1\n",
      "1890       2\n",
      "1891       3\n",
      "1892       3\n",
      "        ... \n",
      "2013     164\n",
      "2014      17\n",
      "2015       4\n",
      "2016       3\n",
      "nan     6902\n",
      "Length: 130, dtype: int64\n"
     ]
    }
   ],
   "source": [
    "grouped_years = data.groupby('Year').size()\n",
    "print(grouped_years)\n"
   ]
  },
  {
   "cell_type": "code",
   "execution_count": 62,
   "metadata": {},
   "outputs": [],
   "source": [
    "\n",
    "data['Year'] = data.loc[data['Year'] == 1010, 'Year'] = 2010"
   ]
  },
  {
   "cell_type": "code",
   "execution_count": 63,
   "metadata": {},
   "outputs": [
    {
     "name": "stdout",
     "output_type": "stream",
     "text": [
      "Year\n",
      "2010    81741\n",
      "dtype: int64\n"
     ]
    }
   ],
   "source": []
  }
 ],
 "metadata": {
  "kernelspec": {
   "display_name": "Python 3",
   "language": "python",
   "name": "python3"
  },
  "language_info": {
   "codemirror_mode": {
    "name": "ipython",
    "version": 3
   },
   "file_extension": ".py",
   "mimetype": "text/x-python",
   "name": "python",
   "nbconvert_exporter": "python",
   "pygments_lexer": "ipython3",
   "version": "3.10.6"
  },
  "orig_nbformat": 4
 },
 "nbformat": 4,
 "nbformat_minor": 2
}
