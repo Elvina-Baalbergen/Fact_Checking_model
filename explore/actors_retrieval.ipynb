{
 "cells": [
  {
   "cell_type": "code",
   "execution_count": 1,
   "metadata": {},
   "outputs": [
    {
     "data": {
      "text/plain": [
       "'/home/niek/Elvina/Thesis/repository/Fact_Checking_model/explore'"
      ]
     },
     "execution_count": 1,
     "metadata": {},
     "output_type": "execute_result"
    }
   ],
   "source": [
    "import pandas as pd\n",
    "import os\n",
    "os.getcwd()"
   ]
  },
  {
   "cell_type": "code",
   "execution_count": 2,
   "metadata": {},
   "outputs": [
    {
     "name": "stdout",
     "output_type": "stream",
     "text": [
      "        Wikipedia ID               Actor\n",
      "0             975900      Wanda De Jesus\n",
      "1             975900  Natasha Henstridge\n",
      "2             975900            Ice Cube\n",
      "3             975900       Jason Statham\n",
      "4             975900         Clea DuVall\n",
      "...              ...                 ...\n",
      "450664        913762  Dorothy Elias-Fahn\n",
      "450665        913762       Jonathan Fahn\n",
      "450666      28308153      David Hemmings\n",
      "450667      28308153    Roberta Paterson\n",
      "450668      28308153         John Rogers\n",
      "\n",
      "[450669 rows x 2 columns]\n"
     ]
    }
   ],
   "source": [
    "actors_df = pd.read_csv('../data/raw/MovieSummaries/character.metadata.tsv', delimiter='\\t', header=None)\n",
    "column_names = ['Wikipedia ID','Freebase movie ID','Movie release date', 'Character name', 'Actor dob', 'Gender', 'Height','Ethnicity','Actor','Age', 'Freebase character/actor map ID','Freebase character ID', 'Freebase actor ID']\n",
    "actors_df.columns = column_names\n",
    "actors_df.drop(['Freebase movie ID','Movie release date', 'Character name', 'Actor dob', 'Gender', 'Height','Ethnicity','Age', 'Freebase character/actor map ID','Freebase character ID', 'Freebase actor ID'], axis=1, inplace=True)\n",
    "\n",
    "print(actors_df)"
   ]
  },
  {
   "attachments": {},
   "cell_type": "markdown",
   "metadata": {},
   "source": [
    "### A test to check if plot description is linked to the metadata via Wikipedia ID"
   ]
  },
  {
   "cell_type": "code",
   "execution_count": 3,
   "metadata": {},
   "outputs": [
    {
     "name": "stdout",
     "output_type": "stream",
     "text": [
      "The value 24225279 is present in 'Wikipedia ID' column.\n"
     ]
    }
   ],
   "source": [
    "\n",
    "# check if 'Wikipedia ID' column contains value 24225279\n",
    "if (24225279 in actors_df['Wikipedia ID'].values):\n",
    "    print(\"The value 24225279 is present in 'Wikipedia ID' column.\")\n",
    "else:\n",
    "    print(\"The value 24225279 is not present in 'Wikipedia ID' column.\")\n"
   ]
  },
  {
   "attachments": {},
   "cell_type": "markdown",
   "metadata": {},
   "source": [
    "## Metadata\n"
   ]
  },
  {
   "cell_type": "code",
   "execution_count": 4,
   "metadata": {},
   "outputs": [],
   "source": [
    "data = pd.read_csv('../data/raw/MovieSummaries/movie.metadata.tsv', delimiter='\\t', header=None)\n",
    "column_names = ['Wikipedia ID','Freebase movie ID','Movie name', 'Year', 'Movie box office revenue', 'Movie runtime', 'Movie languages', 'Movie countries', 'Genre']\n",
    "data.columns = column_names\n",
    "data.drop(['Freebase movie ID','Movie box office revenue', 'Movie runtime', 'Movie languages', 'Movie countries'], axis=1, inplace=True)\n",
    "\n",
    "data['Genre'] = data['Genre'].apply(lambda x: eval(x).values())\n",
    "data['Year'] = data['Year'].astype(str).str[:4]\n",
    "data.loc[data['Year'] == '1010', 'Year'] = '2010'\n",
    "#grouped_years = data.groupby('Year').size()\n",
    "#grouped_years\n",
    "df_combined = pd.merge(actors_df, data, on = 'Wikipedia ID')\n",
    "df_combined.head(9)\n",
    "\n",
    "def select_top_actors(group):\n",
    "    # sort the group by actor's count and take the top 5\n",
    "    top_actors = group.sort_values(by='Actor', ascending=False).head(5)\n",
    "    return top_actors\n",
    "\n",
    "# group the dataframe by the movie column and apply the select_top_actors function\n",
    "df = df_combined.groupby('Movie name').apply(select_top_actors)\n",
    "\n",
    "# reset the index to get rid of the groupby structure\n",
    "df = df.reset_index(drop=True)\n",
    "\n",
    "new_column_order = ['Wikipedia ID','Movie name', 'Year', 'Genre', 'Actor']\n",
    "df = df.reindex(columns=new_column_order)\n",
    "\n"
   ]
  },
  {
   "attachments": {},
   "cell_type": "markdown",
   "metadata": {},
   "source": [
    "## Trying to make a list of actors instead of copying the same movies 5 times"
   ]
  },
  {
   "cell_type": "code",
   "execution_count": 5,
   "metadata": {},
   "outputs": [
    {
     "name": "stdout",
     "output_type": "stream",
     "text": [
      "      Wikipedia ID                                 Movie name    Year  \\\n",
      "0         10000001                              Juan que reía  1976.0   \n",
      "1         10000061  Los Muchachos de antes no usaban arsénico  1976.0   \n",
      "2         10000067                          Brigada en acción  1977.0   \n",
      "3         10000192                                    La Nona  1979.0   \n",
      "4         10002175                               Our very own  2005.0   \n",
      "...            ...                                        ...     ...   \n",
      "62978      9998350                                La Película  1975.0   \n",
      "62979      9998358                    Nazareno Cruz y el lobo  1975.0   \n",
      "62980        99984                Una Aventura Llamada Menudo  1982.0   \n",
      "62981      9999280                             Plaza de Almas     nan   \n",
      "62982      9999915                           Alice to Nowhere     nan   \n",
      "\n",
      "                                                   Genre  \\\n",
      "0                       dict_values(['Drama', 'Comedy'])   \n",
      "1      dict_values(['Crime Fiction', 'Mystery', 'Come...   \n",
      "2                                 dict_values(['Drama'])   \n",
      "3                  dict_values(['Comedy film', 'Drama'])   \n",
      "4       dict_values(['Drama', 'Coming of age', 'Indie'])   \n",
      "...                                                  ...   \n",
      "62978                  dict_values(['Satire', 'Comedy'])   \n",
      "62979                  dict_values(['Drama', 'Fantasy'])   \n",
      "62980                             dict_values(['Music'])   \n",
      "62981                    dict_values(['Drama', 'Indie'])   \n",
      "62982                   dict_values(['Action', 'Drama'])   \n",
      "\n",
      "                                                   Actor  \n",
      "0             Enrique Pinti,Federico Luppi,Luis Brandoni  \n",
      "1                                            Mecha Ortiz  \n",
      "2                                          Palito Ortega  \n",
      "3      Fernando Iglesias 'Tacholas',Juan Carlos Altav...  \n",
      "4      Hilarie Burton,Jason Ritter,Keith Carradine,Ma...  \n",
      "...                                                  ...  \n",
      "62978    Diana Maggi,Héctor Pellegrini,Osvaldo Terranova  \n",
      "62979       Alfredo Alcón,Juan José Camero,Lautaro Murúa  \n",
      "62980  Marisol Gallissa,Miguel Cancel,Nestor de Leon,...  \n",
      "62981            Norman Briski,Olga Zubarry,Vera Fogwill  \n",
      "62982                          John Waters,Steven Jacobs  \n",
      "\n",
      "[62983 rows x 5 columns]\n"
     ]
    }
   ],
   "source": [
    "# read the csv file\n",
    "df = pd.read_csv('../data/processed/Movies_metadata.csv')\n",
    "\n",
    "df['Actor'] = df['Actor'].astype(str)\n",
    "\n",
    "# convert all columns to string type\n",
    "df = df.astype(str)\n",
    "\n",
    "# sort the DataFrame by \"Wikipedia ID\" and \"Actor\"\n",
    "df = df.sort_values(['Wikipedia ID', 'Actor'])\n",
    "\n",
    "# concatenate the \"Actor\" column for each movie using a comma\n",
    "df = df.groupby(['Wikipedia ID', 'Movie name', 'Year', 'Genre'])['Actor'].apply(lambda x: ','.join(x)).reset_index()\n",
    "\n",
    "\n",
    "print(df)\n"
   ]
  },
  {
   "cell_type": "code",
   "execution_count": 6,
   "metadata": {},
   "outputs": [
    {
     "name": "stdout",
     "output_type": "stream",
     "text": [
      "   Wikipedia ID           Movie name    Year  \\\n",
      "0      30332673  #1 Cheerleader Camp  2010.0   \n",
      "1      30332673  #1 Cheerleader Camp  2010.0   \n",
      "2      30332673  #1 Cheerleader Camp  2010.0   \n",
      "3      30332673  #1 Cheerleader Camp  2010.0   \n",
      "4      30332673  #1 Cheerleader Camp  2010.0   \n",
      "\n",
      "                                               Genre                     Actor  \n",
      "0  dict_values(['Sports', 'Sex comedy', 'Comedy f...  Starkesha Brown Robinson  \n",
      "1  dict_values(['Sports', 'Sex comedy', 'Comedy f...              Sonja O'Hara  \n",
      "2  dict_values(['Sports', 'Sex comedy', 'Comedy f...              Seth Cassell  \n",
      "3  dict_values(['Sports', 'Sex comedy', 'Comedy f...               Seth Austin  \n",
      "4  dict_values(['Sports', 'Sex comedy', 'Comedy f...    Sarah Kathryn Harrison  \n"
     ]
    }
   ],
   "source": [
    "df = pd.read_csv('../data/processed/Movies_metadata.csv')\n",
    "\n",
    "df1 = df.head(5)\n",
    "df['Actor'] = df['Actor'].astype(str)\n",
    "print(df1)"
   ]
  },
  {
   "cell_type": "code",
   "execution_count": 7,
   "metadata": {},
   "outputs": [
    {
     "name": "stdout",
     "output_type": "stream",
     "text": [
      "[{'Seth Cassell', 'Seth Austin', 'Starkesha Brown Robinson', 'Sarah Kathryn Harrison', \"Sonja O'Hara\"}]\n"
     ]
    }
   ],
   "source": [
    "actor_list = df1.groupby('Movie name').agg(lambda x: set(x)).reset_index()['Actor'].tolist()\n",
    "print(actor_list)"
   ]
  },
  {
   "cell_type": "code",
   "execution_count": 8,
   "metadata": {},
   "outputs": [
    {
     "name": "stdout",
     "output_type": "stream",
     "text": [
      "['Seth Cassell', 'Seth Austin', 'Starkesha Brown Robinson', 'Sarah Kathryn Harrison', \"Sonja O'Hara\"]\n"
     ]
    }
   ],
   "source": [
    "all_actors = list({actor for actors in actor_list for actor in actors})\n",
    "print(all_actors)"
   ]
  }
 ],
 "metadata": {
  "kernelspec": {
   "display_name": "Python 3",
   "language": "python",
   "name": "python3"
  },
  "language_info": {
   "codemirror_mode": {
    "name": "ipython",
    "version": 3
   },
   "file_extension": ".py",
   "mimetype": "text/x-python",
   "name": "python",
   "nbconvert_exporter": "python",
   "pygments_lexer": "ipython3",
   "version": "3.10.6"
  },
  "orig_nbformat": 4,
  "vscode": {
   "interpreter": {
    "hash": "b27fedf4bc35f9aad9c2542d0deb6e37f774d7c028b471ec4ea6bd7d621b37d8"
   }
  }
 },
 "nbformat": 4,
 "nbformat_minor": 2
}
