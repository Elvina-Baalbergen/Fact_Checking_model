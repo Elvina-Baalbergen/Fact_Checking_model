{
 "cells": [
  {
   "cell_type": "code",
   "execution_count": 30,
   "metadata": {},
   "outputs": [
    {
     "data": {
      "text/plain": [
       "'c:\\\\Users\\\\el_4\\\\OneDrive\\\\Документы\\\\Tilburg University\\\\Master DSS\\\\Thesis\\\\code\\\\Fact_Checking_model\\\\explore'"
      ]
     },
     "execution_count": 30,
     "metadata": {},
     "output_type": "execute_result"
    }
   ],
   "source": [
    "import pandas as pd\n",
    "import os\n",
    "os.getcwd()"
   ]
  },
  {
   "cell_type": "code",
   "execution_count": 31,
   "metadata": {},
   "outputs": [
    {
     "name": "stdout",
     "output_type": "stream",
     "text": [
      "        Wikipedia ID Freebase movie ID               Actor\n",
      "0             975900         /m/03vyhn      Wanda De Jesus\n",
      "1             975900         /m/03vyhn  Natasha Henstridge\n",
      "2             975900         /m/03vyhn            Ice Cube\n",
      "3             975900         /m/03vyhn       Jason Statham\n",
      "4             975900         /m/03vyhn         Clea DuVall\n",
      "...              ...               ...                 ...\n",
      "450664        913762         /m/03pcrp  Dorothy Elias-Fahn\n",
      "450665        913762         /m/03pcrp       Jonathan Fahn\n",
      "450666      28308153        /m/0cp05t9      David Hemmings\n",
      "450667      28308153        /m/0cp05t9    Roberta Paterson\n",
      "450668      28308153        /m/0cp05t9         John Rogers\n",
      "\n",
      "[450669 rows x 3 columns]\n"
     ]
    }
   ],
   "source": [
    "actors_df = pd.read_csv('../data/raw/MovieSummaries/character.metadata.tsv', delimiter='\\t', header=None)\n",
    "column_names = ['Wikipedia ID','Freebase movie ID','Movie release date', 'Character name', 'Actor dob', 'Gender', 'Height','Ethnicity','Actor','Age', 'Freebase character/actor map ID','Freebase character ID', 'Freebase actor ID']\n",
    "actors_df.columns = column_names\n",
    "actors_df.drop(['Movie release date', 'Character name', 'Actor dob', 'Gender', 'Height','Ethnicity','Age', 'Freebase character/actor map ID','Freebase character ID', 'Freebase actor ID'], axis=1, inplace=True)\n",
    "\n",
    "print(actors_df)"
   ]
  },
  {
   "attachments": {},
   "cell_type": "markdown",
   "metadata": {},
   "source": [
    "## Metadata\n"
   ]
  },
  {
   "cell_type": "code",
   "execution_count": 32,
   "metadata": {},
   "outputs": [],
   "source": [
    "data = pd.read_csv('../data/raw/MovieSummaries/movie.metadata.tsv', delimiter='\\t', header=None)\n",
    "column_names = ['Wikipedia ID','Freebase movie ID','Movie name', 'Year', 'Movie box office revenue', 'Movie runtime', 'Movie languages', 'Movie countries', 'Genre']\n",
    "data.columns = column_names\n",
    "data.drop(['Freebase movie ID','Movie box office revenue', 'Movie runtime', 'Movie languages', 'Movie countries'], axis=1, inplace=True)\n",
    "\n",
    "data['Genre'] = data['Genre'].apply(lambda x: eval(x).values())\n",
    "data['Year'] = data['Year'].astype(str).str[:4]\n",
    "data.loc[data['Year'] == '1010', 'Year'] = '2010'\n",
    "#grouped_years = data.groupby('Year').size()\n",
    "#grouped_years\n",
    "df_combined = pd.merge(actors_df, data, on = 'Wikipedia ID')\n",
    "df_combined.head(9)\n",
    "\n",
    "def select_top_actors(group):\n",
    "    # sort the group by actor's count and take the top 5\n",
    "    top_actors = group.sort_values(by='Actor', ascending=False).head(5)\n",
    "    return top_actors\n",
    "\n",
    "# group the dataframe by the movie column and apply the select_top_actors function\n",
    "df = df_combined.groupby('Movie name').apply(select_top_actors)\n",
    "\n",
    "# reset the index to get rid of the groupby structure\n",
    "df = df.reset_index(drop=True)\n",
    "\n",
    "new_column_order = ['Wikipedia ID',\t'Freebase movie ID','Movie name', 'Year', 'Genre', 'Actor']\n",
    "df = df.reindex(columns=new_column_order)\n",
    "\n",
    "print(df.head(7))"
   ]
  }
 ],
 "metadata": {
  "kernelspec": {
   "display_name": "Python 3",
   "language": "python",
   "name": "python3"
  },
  "language_info": {
   "codemirror_mode": {
    "name": "ipython",
    "version": 3
   },
   "file_extension": ".py",
   "mimetype": "text/x-python",
   "name": "python",
   "nbconvert_exporter": "python",
   "pygments_lexer": "ipython3",
   "version": "3.9.6 (tags/v3.9.6:db3ff76, Jun 28 2021, 15:26:21) [MSC v.1929 64 bit (AMD64)]"
  },
  "orig_nbformat": 4,
  "vscode": {
   "interpreter": {
    "hash": "b27fedf4bc35f9aad9c2542d0deb6e37f774d7c028b471ec4ea6bd7d621b37d8"
   }
  }
 },
 "nbformat": 4,
 "nbformat_minor": 2
}
