{
 "cells": [
  {
   "cell_type": "code",
   "execution_count": 1,
   "metadata": {},
   "outputs": [],
   "source": [
    "import pandas as pd\n",
    "import numpy as np"
   ]
  },
  {
   "cell_type": "code",
   "execution_count": 29,
   "metadata": {},
   "outputs": [
    {
     "data": {
      "text/plain": [
       "'/home/niek/Elvina/Thesis/repository/Fact_Checking_model/source_code/data'"
      ]
     },
     "execution_count": 29,
     "metadata": {},
     "output_type": "execute_result"
    }
   ],
   "source": [
    "import os\n",
    "os.getcwd()"
   ]
  },
  {
   "cell_type": "code",
   "execution_count": 41,
   "metadata": {},
   "outputs": [],
   "source": [
    "# Set the directory path where the CSV files are located\n",
    "directory = \"../../data/raw/2_reviews_per_movie_raw\"\n",
    "\n",
    "# Get a list of all file names in the directory\n",
    "file_names = os.listdir(directory)\n",
    "\n",
    "filename = file_names[0]"
   ]
  },
  {
   "cell_type": "code",
   "execution_count": 38,
   "metadata": {},
   "outputs": [
    {
     "name": "stdout",
     "output_type": "stream",
     "text": [
      "                                             reviews\n",
      "0   Beautiful, terrifying:I think the main theme ...\n",
      "1   My theory of what actually happened in this f...\n",
      "2   Perhaps the most relevant social commentary o...\n",
      "3   You can't watch it only once:I first saw this...\n",
      "4   Stunning.:The fact that this is the Directors...\n"
     ]
    }
   ],
   "source": [
    "f1 = pd.read_csv(f\"../../data/raw/2_reviews_per_movie_raw/{filename}\", delimiter=',')\n",
    "#join title+review together, remove other columns\n",
    "\n",
    "f1 = f1.drop(['username','rating','helpful','total','date'], axis=1)\n",
    "f1['title'] = f1['title'].apply(lambda x: x.rstrip('\\n'))\n",
    "f1 ['reviews'] = f1.apply(lambda row: row['title'] + \":\" + row['review'], axis = 1)\n",
    "f1 = f1.drop(['title','review'], axis=1)\n",
    "print(f1.head(5))"
   ]
  },
  {
   "cell_type": "code",
   "execution_count": 39,
   "metadata": {},
   "outputs": [],
   "source": [
    "# Find the index of the start of the file extension\n",
    "index = filename.find('.csv')\n",
    "\n",
    "# Extract the movie name by slicing the string from the start to the index of the file extension\n",
    "film_title = filename[:index - 5]\n",
    "\n",
    "\n",
    "#Retrieve year from a movie name\n",
    "film_year = filename[-8:-4]"
   ]
  },
  {
   "cell_type": "code",
   "execution_count": 40,
   "metadata": {},
   "outputs": [
    {
     "name": "stdout",
     "output_type": "stream",
     "text": [
      "          title  year                                            reviews\n",
      "0  Donnie Darko  2001   Beautiful, terrifying:I think the main theme ...\n",
      "1  Donnie Darko  2001   My theory of what actually happened in this f...\n",
      "2  Donnie Darko  2001   Perhaps the most relevant social commentary o...\n",
      "3  Donnie Darko  2001   You can't watch it only once:I first saw this...\n",
      "4  Donnie Darko  2001   Stunning.:The fact that this is the Directors...\n"
     ]
    }
   ],
   "source": [
    "f1.insert(0, \"title\", film_title)\n",
    "f1.insert(1, \"year\", film_year)\n",
    "print(f1.head(5))"
   ]
  },
  {
   "cell_type": "code",
   "execution_count": null,
   "metadata": {},
   "outputs": [],
   "source": []
  },
  {
   "cell_type": "code",
   "execution_count": 42,
   "metadata": {},
   "outputs": [
    {
     "name": "stdout",
     "output_type": "stream",
     "text": [
      "               title  year                                            reviews\n",
      "0       Donnie Darko  2001   Beautiful, terrifying:I think the main theme ...\n",
      "1       Donnie Darko  2001   My theory of what actually happened in this f...\n",
      "2       Donnie Darko  2001   Perhaps the most relevant social commentary o...\n",
      "3       Donnie Darko  2001   You can't watch it only once:I first saw this...\n",
      "4       Donnie Darko  2001   Stunning.:The fact that this is the Directors...\n",
      "...              ...   ...                                                ...\n",
      "932459       Hancock  2008   Handcock not your typical hero movie.:With mo...\n",
      "932460       Hancock  2008   Not That Bad:First off this is NOT your typic...\n",
      "932461       Hancock  2008   Short, good fun!:Unique enough in its storyli...\n",
      "932462       Hancock  2008   I enjoyed this movie very much because of its...\n",
      "932463       Hancock  2008   A decent summer blockbuster, minus some femal...\n",
      "\n",
      "[932464 rows x 3 columns]\n"
     ]
    }
   ],
   "source": [
    "all_movies = pd.DataFrame()\n",
    "\n",
    "directory = \"../../data/raw/2_reviews_per_movie_raw\"\n",
    "\n",
    "for filename in os.listdir(directory):\n",
    "    if filename.endswith(\".csv\"):\n",
    "        # Load the movie data from the csv file\n",
    "        f1 = pd.read_csv(os.path.join(directory, filename), delimiter=',')\n",
    "        \n",
    "        # Join title and review together, remove other columns\n",
    "        f1 = f1.drop(['username','rating','helpful','total','date'], axis=1)\n",
    "        f1['title'] = f1['title'].apply(lambda x: x.rstrip('\\n'))\n",
    "        f1 ['reviews'] = f1.apply(lambda row: row['title'] + \":\" + row['review'], axis = 1)\n",
    "        f1 = f1.drop(['title','review'], axis=1)\n",
    "\n",
    "        # Extract the movie name and year from the filename\n",
    "        film_title = filename[:filename.find('.csv') - 5]\n",
    "        film_year = filename[-8:-4]\n",
    "\n",
    "        # Add the movie name and year as columns to the dataframe\n",
    "        f1.insert(0, \"title\", film_title)\n",
    "        f1.insert(1, \"year\", film_year)\n",
    "        \n",
    "        # Concatenate the dataframe for this movie with the dataframe for all previous movies\n",
    "        all_movies = pd.concat([all_movies, f1], ignore_index=True)\n",
    "\n",
    "print(all_movies)"
   ]
  },
  {
   "cell_type": "code",
   "execution_count": 46,
   "metadata": {},
   "outputs": [],
   "source": [
    "all_movies.to_csv('../../data/processed/reviews.csv', index=False)\n"
   ]
  },
  {
   "cell_type": "code",
   "execution_count": null,
   "metadata": {},
   "outputs": [],
   "source": []
  },
  {
   "cell_type": "code",
   "execution_count": null,
   "metadata": {},
   "outputs": [],
   "source": []
  },
  {
   "cell_type": "code",
   "execution_count": null,
   "metadata": {},
   "outputs": [],
   "source": []
  },
  {
   "cell_type": "code",
   "execution_count": null,
   "metadata": {},
   "outputs": [],
   "source": []
  },
  {
   "cell_type": "code",
   "execution_count": null,
   "metadata": {},
   "outputs": [],
   "source": []
  },
  {
   "cell_type": "code",
   "execution_count": null,
   "metadata": {},
   "outputs": [],
   "source": []
  }
 ],
 "metadata": {
  "kernelspec": {
   "display_name": "Python 3",
   "language": "python",
   "name": "python3"
  },
  "language_info": {
   "codemirror_mode": {
    "name": "ipython",
    "version": 3
   },
   "file_extension": ".py",
   "mimetype": "text/x-python",
   "name": "python",
   "nbconvert_exporter": "python",
   "pygments_lexer": "ipython3",
   "version": "3.10.6"
  },
  "orig_nbformat": 4
 },
 "nbformat": 4,
 "nbformat_minor": 2
}
